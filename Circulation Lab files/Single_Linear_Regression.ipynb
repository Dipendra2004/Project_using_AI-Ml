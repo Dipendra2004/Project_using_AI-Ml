{
  "cells": [
    {
      "cell_type": "markdown",
      "metadata": {
        "id": "IX44jCc9XvY6"
      },
      "source": [
        "# Single Linear Regression\n",
        "\n",
        "# Note: Please follow all naming conventions as taught in the workshop"
      ]
    },
    {
      "cell_type": "markdown",
      "metadata": {
        "id": "ENpRC2AcqG8J"
      },
      "source": [
        "Run the cell below"
      ]
    },
    {
      "cell_type": "code",
      "execution_count": 1,
      "metadata": {
        "id": "MB1vFh2mp4M4"
      },
      "outputs": [],
      "source": [
        "import math\n",
        "import matplotlib.pyplot as plt"
      ]
    },
    {
      "cell_type": "markdown",
      "metadata": {
        "id": "nNZeU4yQo88t"
      },
      "source": [
        "Lets import numpy\n",
        "\n",
        "numpy: NumPy is a fundamental library for numerical and mathematical operations in Python. It offers support for multi-dimensional arrays and matrices, making it crucial for scientific and mathematical computations. Numpy adds datatypes like arrays and features such as vectorization.\n",
        "\n",
        "\n",
        "\n",
        "\n",
        "\n",
        "\n"
      ]
    },
    {
      "cell_type": "code",
      "execution_count": 3,
      "metadata": {
        "id": "m8PgB3rmaSgz"
      },
      "outputs": [],
      "source": [
        "import numpy as np"
      ]
    },
    {
      "cell_type": "markdown",
      "metadata": {
        "id": "SH2_qa2Vq-9B"
      },
      "source": [
        "We create input variable 'x_train' with two training examples representing Previous Score of the student.\n",
        "\n",
        "Likewise, we create target variable 'y_train' with two values for our training examples representing the Performance Index of the student."
      ]
    },
    {
      "cell_type": "markdown",
      "metadata": {
        "id": "BVxMGsZhfGhk"
      },
      "source": [
        "\n",
        "![image.png](data:image/png;base64,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)"
      ]
    },
    {
      "cell_type": "code",
      "execution_count": 4,
      "metadata": {
        "colab": {
          "base_uri": "https://localhost:8080/"
        },
        "id": "LV0ZxLLKaSeO",
        "outputId": "3b5628c1-a8dd-4f8d-ca5f-a69c2c5083ba"
      },
      "outputs": [
        {
          "output_type": "stream",
          "name": "stdout",
          "text": [
            "x_train = [0.99 0.51]\n",
            "y_train = [91. 45.]\n"
          ]
        }
      ],
      "source": [
        "x_train = np.array([0.99, 0.51])\n",
        "y_train = np.array([91.0, 45.0])\n",
        "print(f\"x_train = {x_train}\")\n",
        "print(f\"y_train = {y_train}\")"
      ]
    },
    {
      "cell_type": "markdown",
      "metadata": {
        "id": "c63Uoh2KrrCA"
      },
      "source": [
        "Extracting input dimensions can be done in two ways\n",
        "1. using '.shape()' method of array"
      ]
    },
    {
      "cell_type": "code",
      "execution_count": 6,
      "metadata": {
        "colab": {
          "base_uri": "https://localhost:8080/"
        },
        "id": "oHmPRm9AaSbn",
        "outputId": "263c5f27-9c70-490a-de47-65222e472c14"
      },
      "outputs": [
        {
          "output_type": "stream",
          "name": "stdout",
          "text": [
            "2\n"
          ]
        }
      ],
      "source": [
        "m = x_train.shape[0]\n",
        "print(m)"
      ]
    },
    {
      "cell_type": "markdown",
      "metadata": {
        "id": "o_Z3frZmr-u6"
      },
      "source": [
        "2. using 'len()' method in python"
      ]
    },
    {
      "cell_type": "code",
      "execution_count": 7,
      "metadata": {
        "colab": {
          "base_uri": "https://localhost:8080/"
        },
        "id": "nILy6qxLaSY_",
        "outputId": "3a443c17-0e64-43cd-aab0-ee93737e57f8"
      },
      "outputs": [
        {
          "output_type": "stream",
          "name": "stdout",
          "text": [
            "2\n"
          ]
        }
      ],
      "source": [
        "m= len(x_train)\n",
        "print(m)"
      ]
    },
    {
      "cell_type": "markdown",
      "metadata": {
        "id": "trf-BQa0sIyk"
      },
      "source": [
        "Run the cell below to visualize our data"
      ]
    },
    {
      "cell_type": "code",
      "execution_count": 8,
      "metadata": {
        "colab": {
          "base_uri": "https://localhost:8080/",
          "height": 472
        },
        "id": "zes0p_hOaSUc",
        "outputId": "9044eb3f-1b99-477f-abe3-8e11b8b16961"
      },
      "outputs": [
        {
          "output_type": "display_data",
          "data": {
            "text/plain": [
              "<Figure size 640x480 with 1 Axes>"
            ],
            "image/png": "[encoded data removed]"
          },
          "metadata": {}
        }
      ],
      "source": [
        "# Plot the data points\n",
        "plt.scatter(x_train, y_train, marker='o', c='black')\n",
        "# Set the title\n",
        "plt.title(\"Student Performance\")\n",
        "# Set the y-axis label\n",
        "plt.ylabel('Performance Index')\n",
        "# Set the x-axis label\n",
        "plt.xlabel('Previous Score (x100)')\n",
        "plt.show()"
      ]
    },
    {
      "cell_type": "markdown",
      "metadata": {
        "id": "PGOz84wcsrlM"
      },
      "source": [
        "Run the cell below to set ideal weight and bias values for prediction"
      ]
    },
    {
      "cell_type": "code",
      "execution_count": 9,
      "metadata": {
        "colab": {
          "base_uri": "https://localhost:8080/"
        },
        "id": "aBRPV-y6aSSK",
        "outputId": "ad0f0050-26d8-4824-87e7-d2a8d33500be"
      },
      "outputs": [
        {
          "output_type": "stream",
          "name": "stdout",
          "text": [
            "w: 94.2231\n",
            "b: -2.6217\n"
          ]
        }
      ],
      "source": [
        "w = 94.2231\n",
        "b = -2.6217\n",
        "print(f\"w: {w}\")\n",
        "print(f\"b: {b}\")"
      ]
    },
    {
      "cell_type": "markdown",
      "metadata": {
        "id": "SSlcEyARsyY8"
      },
      "source": [
        "This is your first task! You need to write the code to predict the output $f_{w,b}(x^{(i)})$ which is:\n",
        "\n",
        "$$f_{w,b}(x^{(i)}) = wx^{(i)} + b \\tag{1}$$\n"
      ]
    },
    {
      "cell_type": "code",
      "execution_count": 13,
      "metadata": {
        "id": "q1SC2RgiaSPl"
      },
      "outputs": [],
      "source": [
        "def compute_model_output(x, w, b):\n",
        "    \"\"\"\n",
        "    Computes the prediction of a linear model\n",
        "      x (ndarray (m,)): input data, m examples\n",
        "      w,b (scalar)    : model parameters\n",
        "    Returns\n",
        "      y (ndarray (m,)): target values\n",
        "    \"\"\"\n",
        "    m = x.shape[0]\n",
        "    f_wb = np.zeros(m)\n",
        "\n",
        "    # write code here\n",
        "    for i in range(m):\n",
        "      f_wb[i] = w * x[i] + b\n",
        "    # finish code\n",
        "\n",
        "    return f_wb"
      ]
    },
    {
      "cell_type": "markdown",
      "metadata": {
        "id": "6YQ1bnRjfGhm"
      },
      "source": [
        "Run the cell below to test your code"
      ]
    },
    {
      "cell_type": "code",
      "execution_count": 16,
      "metadata": {
        "colab": {
          "base_uri": "https://localhost:8080/"
        },
        "id": "rnW1DEq9fGhm",
        "outputId": "b260ee38-d7e6-4f70-ae0a-b5da0bb196b7"
      },
      "outputs": [
        {
          "output_type": "stream",
          "name": "stdout",
          "text": [
            "Correct.\n"
          ]
        }
      ],
      "source": [
        "# Test cases\n",
        "temp_x = np.array([1, 2, 3, 4])\n",
        "temp_w = 2\n",
        "temp_b = 1\n",
        "\n",
        "# Calculate the expected output\n",
        "expected_output = np.array([3, 5, 7, 9])\n",
        "\n",
        "# Call the function with the input values\n",
        "output = compute_model_output(temp_x, temp_w, temp_b)\n",
        "# Check if the output matches the expected output\n",
        "if np.array_equal(output, expected_output):\n",
        "    print(\"Correct.\")\n",
        "else:\n",
        "    print(\"Not correct.\")\n",
        "\n",
        "# We determine the desired outcome and design a test case with x, w, and b.\n",
        "# The compute_model_output function is then called with these inputs, and the expected and actual outputs are compared.\n",
        "# It will display \"Output is correct\" if they match and \"Output is not correct\" if they don't."
      ]
    },
    {
      "cell_type": "markdown",
      "metadata": {
        "id": "FefSHk2huRfn"
      },
      "source": [
        "Lets plot the line to see if it fits our output"
      ]
    },
    {
      "cell_type": "code",
      "execution_count": 17,
      "metadata": {
        "colab": {
          "base_uri": "https://localhost:8080/",
          "height": 472
        },
        "id": "GzNuBABbaSM0",
        "outputId": "7008f1ce-43e6-4254-f296-257a0a10f01c"
      },
      "outputs": [
        {
          "output_type": "display_data",
          "data": {
            "text/plain": [
              "<Figure size 640x480 with 1 Axes>"
            ],
            "image/png": "[encoded data removed]"
          },
          "metadata": {}
        }
      ],
      "source": [
        "tmp_f_wb = compute_model_output(x_train, w, b,)\n",
        "\n",
        "# Plot our model prediction\n",
        "plt.plot(x_train, tmp_f_wb, c='b',label='Our Prediction')\n",
        "\n",
        "# Plot the data points\n",
        "plt.scatter(x_train, y_train, marker='x', c='r',label='Actual Values')\n",
        "\n",
        "# Set the title\n",
        "plt.title(\"Student Performance\")\n",
        "# Set the y-axis label\n",
        "plt.ylabel('Performance Index')\n",
        "# Set the x-axis label\n",
        "plt.xlabel('Previous Score (x100)')\n",
        "plt.legend()\n",
        "plt.show()"
      ]
    },
    {
      "cell_type": "markdown",
      "metadata": {
        "id": "2VY-UGb6uq39"
      },
      "source": [
        "Lets make a prediction using the function you wrote"
      ]
    },
    {
      "cell_type": "code",
      "execution_count": 18,
      "metadata": {
        "colab": {
          "base_uri": "https://localhost:8080/"
        },
        "id": "qes1v3TpaSKV",
        "outputId": "6e1b2c05-d12a-4fc9-d08a-655c953439bd"
      },
      "outputs": [
        {
          "output_type": "stream",
          "name": "stdout",
          "text": [
            "59 marks in the next exam\n"
          ]
        }
      ],
      "source": [
        "x_i = 0.65\n",
        "performance_prediction = w * x_i + b\n",
        "\n",
        "print(f\"{performance_prediction:.0f} marks in the next exam\")"
      ]
    },
    {
      "cell_type": "markdown",
      "metadata": {
        "id": "gOw54GuKvDFs"
      },
      "source": [
        "Cost is a measure how well our model is predicting the target price of the house.\n",
        "\n",
        "The equation for cost with one variable is:\n",
        "  $$J(w,b) = \\frac{1}{2m} \\sum\\limits_{i = 0}^{m-1} (f_{w,b}(x^{(i)}) - y^{(i)})^2 \\tag{2}$$\n",
        "\n",
        "where\n",
        "  $$f_{w,b}(x^{(i)}) = wx^{(i)} + b$$\n",
        "  \n",
        "- $f_{w,b}(x^{(i)})$ is our prediction for example $i$ using parameters $w,b$.  \n",
        "\n",
        "- $(f_{w,b}(x^{(i)}) -y^{(i)})^2$ is the squared difference between the target value and the prediction.   \n",
        "\n",
        "- These differences are summed over all the $m$ examples and divided by `2m` to produce the cost, $J(w,b)$.  \n",
        "\n"
      ]
    },
    {
      "cell_type": "code",
      "execution_count": null,
      "metadata": {
        "id": "MOdedNwOfzUd"
      },
      "outputs": [],
      "source": [
        "def compute_cost(x, y, w, b):\n",
        "    \"\"\"\n",
        "    Computes the cost function for linear regression.\n",
        "\n",
        "    Args:\n",
        "      x (ndarray (m,)): Data, m examples\n",
        "      y (ndarray (m,)): target values\n",
        "      w,b (scalar)    : model parameters\n",
        "\n",
        "    Returns\n",
        "        total_cost (float): The cost of using w,b as the parameters for linear regression\n",
        "               to fit the data points in x and y\n",
        "    \"\"\"\n",
        "\n",
        "    m = x.shape[0]\n",
        "\n",
        "    # write code here\n",
        "\n",
        "    # finish code\n",
        "\n",
        "    return total_cost"
      ]
    },
    {
      "cell_type": "markdown",
      "metadata": {
        "id": "rDh65w6efGhn"
      },
      "source": [
        "Run the cell below to test your code"
      ]
    },
    {
      "cell_type": "code",
      "execution_count": null,
      "metadata": {
        "id": "0vz--oc1fGhn"
      },
      "outputs": [],
      "source": [
        "# Define example data and model parameters\n",
        "temp_x = np.array([1, 2, 3, 4, 5])  # Input data\n",
        "temp_y = np.array([2, 4, 6, 8, 10])  # Target values\n",
        "temp_w = 2.0  # Model parameter (slope)\n",
        "temp_b = 0.0  # Model parameter (intercept)\n",
        "\n",
        "# Expected cost (for the provided data and parameters)\n",
        "temp_expected_cost = 0.0\n",
        "\n",
        "# Call the compute_cost function to calculate the cost\n",
        "temp_calculated_cost = compute_cost(temp_x, temp_y, temp_w, temp_b)\n",
        "\n",
        "# Check if the calculated cost matches the expected cost\n",
        "if temp_calculated_cost == temp_expected_cost:\n",
        "    print(\"Correct\")\n",
        "else:\n",
        "    print(\"Not Correct\")"
      ]
    },
    {
      "cell_type": "markdown",
      "metadata": {
        "id": "75J-f6uFwEbz"
      },
      "source": [
        "Run the cell below to print the cost for our prediction on the data"
      ]
    },
    {
      "cell_type": "code",
      "execution_count": null,
      "metadata": {
        "id": "R3svFAmbfzQP"
      },
      "outputs": [],
      "source": [
        "print(compute_cost(x_train, y_train, w, b))"
      ]
    },
    {
      "cell_type": "markdown",
      "metadata": {
        "id": "wRV3oImHhU6m"
      },
      "source": [
        "The primary purpose of Gradient descent is to find the minimum of the function. This is done to converge to the optimal values of weights and bias, so that our predictions have minimum error, creating accurate results.\n",
        "\n",
        "We define it as:\n",
        "\n",
        "$$\\begin{align*} \\text{repeat}&\\text{ until convergence:} \\; \\lbrace \\newline\n",
        "\\;  w &= w -  \\alpha \\frac{\\partial J(w,b)}{\\partial w} \\tag{3}  \\; \\newline\n",
        " b &= b -  \\alpha \\frac{\\partial J(w,b)}{\\partial b}  \\newline \\rbrace\n",
        "\\end{align*}\n",
        "$$\n",
        "\n",
        "where, parameters $w$, $b$ are updated simultaneously.  \n",
        "The gradient is defined as:\n",
        "$$\n",
        "\\begin{align}\n",
        "\\frac{\\partial J(w,b)}{\\partial w}  &= \\frac{1}{m} \\sum\\limits_{i = 0}^{m-1} (f_{w,b}(x^{(i)}) - y^{(i)})x^{(i)} \\tag{4}\\\\\n",
        "  \\frac{\\partial J(w,b)}{\\partial b}  &= \\frac{1}{m} \\sum\\limits_{i = 0}^{m-1} (f_{w,b}(x^{(i)}) - y^{(i)}) \\tag{5}\\\\\n",
        "\\end{align}\n",
        "$$\n",
        "\n",
        "Here *simultaniously* means that you calculate the partial derivatives for all the parameters before updating any of the parameters."
      ]
    },
    {
      "cell_type": "markdown",
      "metadata": {
        "id": "Vzo60XjMhh86"
      },
      "source": [
        "<a name=\"toc_40291_2.2\"></a>\n",
        "## Implement Gradient Descent\n",
        "You will implement gradient descent algorithm for one feature. You will need three functions.\n",
        "- `compute_gradient` implementing equation (4) and (5) above\n",
        "- `compute_cost` implementing equation (2) above\n",
        "- `gradient_descent`, utilizing compute_gradient and compute_cost\n"
      ]
    },
    {
      "cell_type": "markdown",
      "metadata": {
        "id": "3A3AKKQUh8hv"
      },
      "source": [
        "<a name=\"toc_40291_2.3\"></a>\n",
        "### compute_gradient\n",
        "<a name='ex-01'></a>\n",
        "`compute_gradient`  implements (4) and (5) above and returns $\\frac{\\partial J(w,b)}{\\partial w}$,$\\frac{\\partial J(w,b)}{\\partial b}$. The embedded comments describe the operations."
      ]
    },
    {
      "cell_type": "code",
      "execution_count": null,
      "metadata": {
        "id": "fODKoW3UfzNk"
      },
      "outputs": [],
      "source": [
        "def compute_gradient(x, y, w, b):\n",
        "    \"\"\"\n",
        "    Computes the gradient for linear regression\n",
        "    Args:\n",
        "      x (ndarray (m,)): input data, m examples\n",
        "      y (ndarray (m,)): target values\n",
        "      w,b (scalar)    : model parameters\n",
        "    Returns\n",
        "      dj_dw (scalar): The gradient of the cost w.r.t. the parameters w\n",
        "      dj_db (scalar): The gradient of the cost w.r.t. the parameter b\n",
        "     \"\"\"\n",
        "\n",
        "    m = x.shape[0]\n",
        "    dj_dw = 0\n",
        "    dj_db = 0\n",
        "\n",
        "    # write code here\n",
        "\n",
        "    # finish code\n",
        "\n",
        "    return dj_dw, dj_db"
      ]
    },
    {
      "cell_type": "markdown",
      "metadata": {
        "id": "nhFnGYcIfGho"
      },
      "source": [
        "Run the  cell below to test your code."
      ]
    },
    {
      "cell_type": "code",
      "execution_count": null,
      "metadata": {
        "id": "wb3_jeUCfGho"
      },
      "outputs": [],
      "source": [
        "# Define example data and model parameters\n",
        "temp_x = np.array([1, 2, 3, 4, 5])  # Input data\n",
        "temp_y = np.array([2, 4, 6, 8, 10])  # Target values\n",
        "temp_w = 2.0  # Model parameter (slope)\n",
        "temp_b = 0.0  # Model parameter (intercept)\n",
        "\n",
        "# Expected gradients (for the provided data and parameters)\n",
        "expected_dj_dw = 0.0\n",
        "expected_dj_db = 0.0\n",
        "\n",
        "# Call the compute_gradient function to calculate the gradients\n",
        "calculated_dj_dw, calculated_dj_db = compute_gradient(temp_x, temp_y, temp_w, temp_b)\n",
        "\n",
        "# Check if the calculated gradients match the expected gradients\n",
        "if calculated_dj_dw == expected_dj_dw and calculated_dj_db == expected_dj_db:\n",
        "    print(\"Correct\")\n",
        "else:\n",
        "    print(\"Not Correct\")"
      ]
    },
    {
      "cell_type": "markdown",
      "metadata": {
        "id": "WZ9FCRWqfGho"
      },
      "source": [
        "Now lets implement gradient descent"
      ]
    },
    {
      "cell_type": "code",
      "execution_count": null,
      "metadata": {
        "id": "feTfUIlcfzKf"
      },
      "outputs": [],
      "source": [
        "def gradient_descent(x, y, w_in, b_in, alpha, num_iters, cost_function, gradient_function):\n",
        "    \"\"\"\n",
        "    Performs gradient descent to fit w,b. Updates w,b by taking\n",
        "    num_iters gradient steps with learning rate alpha\n",
        "\n",
        "    Args:\n",
        "      x (ndarray (m,))  : input data, m examples\n",
        "      y (ndarray (m,))  : target values\n",
        "      w_in,b_in (scalar): initial values of model parameters\n",
        "      alpha (float):     Learning rate\n",
        "      num_iters (int):   number of iterations to run gradient descent\n",
        "      cost_function:     function to call to produce cost\n",
        "      gradient_function: function to call to produce gradient\n",
        "\n",
        "    Returns:\n",
        "      w (scalar): Updated value of parameter after running gradient descent\n",
        "      b (scalar): Updated value of parameter after running gradient descent\n",
        "      J_history (List): History of cost values\n",
        "      p_history (list): History of parameters [w,b]\n",
        "      \"\"\"\n",
        "\n",
        "    # A list to store cost J and w's at each iteration primarily for graphing later\n",
        "    J_history = []\n",
        "    p_history = []\n",
        "    b = b_in\n",
        "    w = w_in\n",
        "\n",
        "    for i in range(num_iters):\n",
        "        # Calculate the gradient and update the parameters using gradient_function\n",
        "        # write code here\n",
        "\n",
        "        # finish code\n",
        "\n",
        "        # Update Parameters using equation (3) above\n",
        "        # write code here\n",
        "\n",
        "        # finish code\n",
        "\n",
        "        # Save cost J at each iteration\n",
        "        if i<100000:      # prevent resource exhaustion\n",
        "            J_history.append( cost_function(x, y, w , b))\n",
        "            p_history.append([w,b])\n",
        "        # Print cost every at intervals 10 times or as many iterations if < 10\n",
        "        if i% math.ceil(num_iters/10) == 0:\n",
        "            print(f\"Iteration {i:4}: Cost {J_history[-1]:0.2e} \",\n",
        "                  f\"dj_dw: {dj_dw: 0.3e}, dj_db: {dj_db: 0.3e}  \",\n",
        "                  f\"w: {w: 0.3e}, b:{b: 0.5e}\")\n",
        "\n",
        "    return w, b, J_history, p_history #return w and J,w history for graphing"
      ]
    },
    {
      "cell_type": "markdown",
      "metadata": {
        "id": "Ln5MS8HyzIOF"
      },
      "source": [
        "Run the cell below to run Gradient descent. We will set an optimal value for alpha (learning rate).\n",
        "\n",
        "You should expect to get the following values:\n",
        "\n",
        "w = 94.2231\n",
        "\n",
        "b = -2.6217"
      ]
    },
    {
      "cell_type": "code",
      "execution_count": null,
      "metadata": {
        "id": "Ugr_kqkqfzGr"
      },
      "outputs": [],
      "source": [
        "# initialize parameters\n",
        "w_init = 0\n",
        "b_init = 0\n",
        "# some gradient descent settings\n",
        "iterations = 1000\n",
        "tmp_alpha = 0.1\n",
        "# run gradient descent\n",
        "w_final, b_final, J_hist, p_hist = gradient_descent(x_train ,y_train, w_init, b_init, tmp_alpha,\n",
        "                                                    iterations, compute_cost, compute_gradient)\n",
        "print(f\"(w,b) found by gradient descent: ({w_final:8.4f},{b_final:8.4f})\")"
      ]
    },
    {
      "cell_type": "markdown",
      "metadata": {
        "id": "cg4GhUTFzPFL"
      },
      "source": [
        "Lets visualise the cost per iteration to see the behaviour of cost as gradient descent works. Ideally, cost should decrease every iteration."
      ]
    },
    {
      "cell_type": "code",
      "execution_count": null,
      "metadata": {
        "id": "JdgUF8UYfzD3"
      },
      "outputs": [],
      "source": [
        "# Plot cost versus iteration\n",
        "fig, ax1 = plt.subplots(figsize=(12, 4))\n",
        "ax1.plot(J_hist[:100])\n",
        "ax1.set_title(\"Cost vs. iteration (start)\")\n",
        "ax1.set_ylabel('Cost')\n",
        "ax1.set_xlabel('Iteration Step')\n",
        "plt.show()"
      ]
    },
    {
      "cell_type": "markdown",
      "metadata": {
        "id": "vRCmPB5M0aWZ"
      },
      "source": [
        "Now, lets make a test prediction on a student whose previous score was 65. We will represent it as 0.65."
      ]
    },
    {
      "cell_type": "code",
      "execution_count": null,
      "metadata": {
        "id": "mJ-GbQbJoujg"
      },
      "outputs": [],
      "source": [
        "x_i = 0.65\n",
        "performance_prediction = w_final * x_i + b_final\n",
        "\n",
        "print(f\"{performance_prediction:.0f} marks in the next exam\")"
      ]
    },
    {
      "cell_type": "markdown",
      "metadata": {
        "id": "DSBomIHu0ugf"
      },
      "source": [
        "Lets compute the cost for this prediction. After running the cell below, we see that the cost is extremely low, indicating optimal performance."
      ]
    },
    {
      "cell_type": "code",
      "execution_count": null,
      "metadata": {
        "id": "HvfkmHr6rPN-"
      },
      "outputs": [],
      "source": [
        "compute_cost(np.array([0.65]), np.array([64]), w_final, b_final)"
      ]
    },
    {
      "cell_type": "markdown",
      "metadata": {
        "id": "STUAqnJg0_OK"
      },
      "source": [
        "Now, lets see the effect of a high learning rate on gradient descent. We will increase the value of alpha and keep the rest same."
      ]
    },
    {
      "cell_type": "code",
      "execution_count": null,
      "metadata": {
        "id": "V9QhQYYoQEk1"
      },
      "outputs": [],
      "source": [
        "tmp_alpha = 1.5\n",
        "# run gradient descent\n",
        "w_final, b_final, J_hist, p_hist = gradient_descent(x_train ,y_train, w_init, b_init, tmp_alpha,\n",
        "                                                    iterations, compute_cost, compute_gradient)"
      ]
    },
    {
      "cell_type": "markdown",
      "metadata": {
        "id": "Bi0Reoaa1i7D"
      },
      "source": [
        "Now, lets make a test prediction on the same student, but with the newly found values for our parameters with high learning rate."
      ]
    },
    {
      "cell_type": "code",
      "execution_count": null,
      "metadata": {
        "id": "5sUI9hQBQEf4"
      },
      "outputs": [],
      "source": [
        "x_i = 0.65\n",
        "performance_prediction = w_final * x_i + b_final\n",
        "\n",
        "print(f\"{performance_prediction:.0f} marks in the next exam\")"
      ]
    },
    {
      "cell_type": "markdown",
      "metadata": {
        "id": "NSe8f2sc10GM"
      },
      "source": [
        "Lets compute the cost for this prediction. After running the cell below, we see that the cost is much higher, indicating poor performance by the model."
      ]
    },
    {
      "cell_type": "code",
      "execution_count": null,
      "metadata": {
        "id": "oAg9z1HGQEdQ"
      },
      "outputs": [],
      "source": [
        "compute_cost(np.array([0.65]), np.array([64]), w_final, b_final)"
      ]
    },
    {
      "cell_type": "markdown",
      "metadata": {
        "id": "hblXfsmJ18Ka"
      },
      "source": [
        "# You have implemented single linear regression in base python.\n",
        "Now, lets use pre-built libraries to speed up this process. These libraries are used in the forefront of AI/ML. Lets import them.\n",
        "\n"
      ]
    },
    {
      "cell_type": "markdown",
      "metadata": {
        "id": "qwEVMhBB2g49"
      },
      "source": [
        "pandas: Pandas is a powerful data manipulation library in Python. It provides data structures and functions for efficiently working with structured data, such as data tables. You can easily load, analyze, and manipulate data using data frames with Pandas.\n",
        "\n",
        "\n",
        "StandardScaler (from scikit-learn): StandardScaler is a class from the scikit-learn library used for scaling and standardizing features in machine learning. It helps to transform your data into a standard format, which can improve the performance of certain machine learning algorithms.\n",
        "\n",
        "\n",
        "train_test_split (from scikit-learn): This function from scikit-learn is used for splitting your dataset into training and testing subsets. It's crucial for evaluating the performance of machine learning models.\n",
        "\n",
        "\n",
        "LinearRegression (from scikit-learn): LinearRegression is a class in scikit-learn for implementing linear regression models. It's commonly used for modeling linear relationships between variables in predictive analytics and regression tasks.\n",
        "\n",
        "\n",
        "mean_squared_error (from scikit-learn): Mean Squared Error (MSE) is a common metric for measuring the accuracy of regression models. This function in scikit-learn calculates the MSE between the predicted and actual values, helping you assess the model's performance.\n"
      ]
    },
    {
      "cell_type": "code",
      "execution_count": null,
      "metadata": {
        "id": "ZaC5TIFu2hn9"
      },
      "outputs": [],
      "source": []
    },
    {
      "cell_type": "markdown",
      "metadata": {
        "id": "uCmtaNFW29MA"
      },
      "source": [
        "Lets read the csv file and store it into a dataframe. We will use the path of the Single linear regression file to do this."
      ]
    },
    {
      "cell_type": "code",
      "execution_count": null,
      "metadata": {
        "id": "YJKbAGSq6vQr"
      },
      "outputs": [],
      "source": []
    },
    {
      "cell_type": "markdown",
      "metadata": {
        "id": "9o1GPsQQ3WBK"
      },
      "source": [
        "Lets print the dataframe"
      ]
    },
    {
      "cell_type": "code",
      "execution_count": null,
      "metadata": {
        "id": "rzGC9Gj4626r"
      },
      "outputs": [],
      "source": []
    },
    {
      "cell_type": "markdown",
      "metadata": {
        "id": "qweU5t3534lG"
      },
      "source": [
        "The method '.describe()' describes our data giving us useful information such as the mean."
      ]
    },
    {
      "cell_type": "code",
      "execution_count": null,
      "metadata": {
        "id": "1YMkg-o-__rm"
      },
      "outputs": [],
      "source": []
    },
    {
      "cell_type": "markdown",
      "metadata": {
        "id": "DyRgD74-4GoG"
      },
      "source": [
        "Now, lets set our input data as 'X'.\n",
        "We will set X as the Previous Scores column.\n",
        "\n",
        "Likewise, lets set our target data as 'y'.\n",
        "We will set y as the Performance Index column."
      ]
    },
    {
      "cell_type": "code",
      "execution_count": null,
      "metadata": {
        "id": "mVfUH0kX7w27"
      },
      "outputs": [],
      "source": []
    },
    {
      "cell_type": "markdown",
      "metadata": {
        "id": "7lVMFHxq4zZr"
      },
      "source": [
        "Lets print X"
      ]
    },
    {
      "cell_type": "code",
      "execution_count": null,
      "metadata": {
        "id": "J-Ybiq928kxW"
      },
      "outputs": [],
      "source": []
    },
    {
      "cell_type": "markdown",
      "metadata": {
        "id": "jRuyIdNL47G5"
      },
      "source": [
        "Lets print y"
      ]
    },
    {
      "cell_type": "code",
      "execution_count": null,
      "metadata": {
        "id": "2v44BH3G8-ZL"
      },
      "outputs": [],
      "source": []
    },
    {
      "cell_type": "markdown",
      "metadata": {
        "id": "U-1ToOXj5Ftj"
      },
      "source": [
        "Now, we will perform normalization on our input data to enhance our models performance. This is done by following the steps\n",
        "\n",
        "1. Store columns of X in a variable 'columns' by using the '.columns' method. We do this because using standard scaler converts our dataframe into a numpy array and in order to convert it back to a dataframe, we require the column names."
      ]
    },
    {
      "cell_type": "code",
      "execution_count": null,
      "metadata": {
        "id": "xXNGlZELJ7i5"
      },
      "outputs": [],
      "source": []
    },
    {
      "cell_type": "markdown",
      "metadata": {
        "id": "SSNF37tN5eBM"
      },
      "source": [
        "Lets print the columns variable"
      ]
    },
    {
      "cell_type": "code",
      "execution_count": null,
      "metadata": {
        "id": "p24JrIQOJ-A-"
      },
      "outputs": [],
      "source": []
    },
    {
      "cell_type": "markdown",
      "metadata": {
        "id": "GnfNAt3S6XpV"
      },
      "source": [
        "2. Lets create an instance of StandardScaler class to use it. Assign this to the variable 'scaler'."
      ]
    },
    {
      "cell_type": "code",
      "execution_count": null,
      "metadata": {
        "id": "vsmwi-DT9j3o"
      },
      "outputs": [],
      "source": []
    },
    {
      "cell_type": "markdown",
      "metadata": {
        "id": "0Xe-ySSu6p1c"
      },
      "source": [
        "3. Now, we will use the 'fit_transform()' method of standard scaler in order to do 2 things:\n",
        "\n",
        "\n",
        "  *   Find the standard deviation for our input data (fit)\n",
        "  *   Normalize our input data (transform)\n",
        "\n"
      ]
    },
    {
      "cell_type": "code",
      "execution_count": null,
      "metadata": {
        "id": "KvA0J4wf9_lw"
      },
      "outputs": [],
      "source": []
    },
    {
      "cell_type": "markdown",
      "metadata": {
        "id": "0GBsqQ6Z7bys"
      },
      "source": [
        "4. Lets convert our normalized data to a dataframe again"
      ]
    },
    {
      "cell_type": "code",
      "execution_count": null,
      "metadata": {
        "id": "SRA5Tkz7-gm1"
      },
      "outputs": [],
      "source": []
    },
    {
      "cell_type": "markdown",
      "metadata": {
        "id": "uneQfG6h7kgX"
      },
      "source": [
        "Lets use the '.describe()' methood to see the change in our input data."
      ]
    },
    {
      "cell_type": "code",
      "execution_count": null,
      "metadata": {
        "id": "WlDKew3OKJad"
      },
      "outputs": [],
      "source": []
    },
    {
      "cell_type": "markdown",
      "metadata": {
        "id": "jEeCb0Wd7yTq"
      },
      "source": [
        "Now, we will use the 'train_test_split()' method in order to split our data into training and test data. We will store this in 4 variables: train_X, test_X, train_y, test_y. We will split our data as 80% training data, 20% testing data."
      ]
    },
    {
      "cell_type": "code",
      "execution_count": null,
      "metadata": {
        "id": "nT-NlQqhAL8u"
      },
      "outputs": [],
      "source": []
    },
    {
      "cell_type": "markdown",
      "metadata": {
        "id": "TopAAcj18YJR"
      },
      "source": [
        "Now, lets create an instance of the LinearRegression() class to use the model. Assign this to the variable 'lr'."
      ]
    },
    {
      "cell_type": "code",
      "execution_count": null,
      "metadata": {
        "id": "rnCpZrodCEJI"
      },
      "outputs": [],
      "source": []
    },
    {
      "cell_type": "markdown",
      "metadata": {
        "id": "6MVSjF4z8yQg"
      },
      "source": [
        "Now, we will train the model on our training data. We can do this by using the 'fit()' method."
      ]
    },
    {
      "cell_type": "code",
      "execution_count": null,
      "metadata": {
        "id": "cJZ40lfUCZWq"
      },
      "outputs": [],
      "source": []
    },
    {
      "cell_type": "markdown",
      "metadata": {
        "id": "zEgONjya9JIr"
      },
      "source": [
        "Now that our model is trained, we can use it to make predictions using the '.predict()' method. Lets make predictions on the training data and store it in the variable 'train_predictions'"
      ]
    },
    {
      "cell_type": "code",
      "execution_count": null,
      "metadata": {
        "id": "wWheNFycDcdE"
      },
      "outputs": [],
      "source": []
    },
    {
      "cell_type": "markdown",
      "metadata": {
        "id": "AqQMRY0R9bsh"
      },
      "source": [
        "Lets make predictions on the testing data and store it in the variable 'test_predictions'"
      ]
    },
    {
      "cell_type": "code",
      "execution_count": null,
      "metadata": {
        "id": "iCryhKJrCc3b"
      },
      "outputs": [],
      "source": []
    },
    {
      "cell_type": "markdown",
      "metadata": {
        "id": "NQPlN_PH9hRg"
      },
      "source": [
        "Now, we will use the 'mean_squared_error()' method to find the mean squared error for our predictions on the **training **data. We will do this by comparing with the target values of training data."
      ]
    },
    {
      "cell_type": "code",
      "execution_count": null,
      "metadata": {
        "id": "ikfgxiYVE4fA"
      },
      "outputs": [],
      "source": []
    },
    {
      "cell_type": "markdown",
      "metadata": {
        "id": "JTBYbtKv9yrp"
      },
      "source": [
        "Print the training mean squared error"
      ]
    },
    {
      "cell_type": "code",
      "execution_count": null,
      "metadata": {
        "id": "XxrqngMODkCS"
      },
      "outputs": [],
      "source": []
    },
    {
      "cell_type": "markdown",
      "metadata": {
        "id": "_X6M5Ums9xj5"
      },
      "source": [
        "Now, we will use the same method to find the mean squared error for our predictions on the **testing** data. We will do this by comparing with the target values of testing data."
      ]
    },
    {
      "cell_type": "code",
      "execution_count": null,
      "metadata": {
        "id": "wAMkhXJbCnvh"
      },
      "outputs": [],
      "source": []
    },
    {
      "cell_type": "markdown",
      "metadata": {
        "id": "MTNDbHKC-CV8"
      },
      "source": [
        "Print the testing mean squared error"
      ]
    },
    {
      "cell_type": "code",
      "execution_count": null,
      "metadata": {
        "id": "xt_XhXo_DMDL"
      },
      "outputs": [],
      "source": []
    },
    {
      "cell_type": "markdown",
      "metadata": {
        "id": "u6JHwOHh-FTa"
      },
      "source": [
        "Great work! Lets visualise our predictions. Run the cells below."
      ]
    },
    {
      "cell_type": "code",
      "execution_count": null,
      "metadata": {
        "id": "Jl2wVzHUDM8K"
      },
      "outputs": [],
      "source": [
        "plt.figure(figsize=(8, 6))\n",
        "plt.scatter(train_y, train_predictions, c='blue', label='Model Predictions')\n",
        "plt.plot([min(train_y), max(train_y)], [min(train_y), max(train_y)], linestyle='--', color='red', label='Prediction line')\n",
        "plt.xlabel('True Values')\n",
        "plt.ylabel('Predicted Values')\n",
        "plt.title('Training True vs Predicted Values')\n",
        "plt.legend()\n",
        "plt.grid(True)\n",
        "plt.show()"
      ]
    },
    {
      "cell_type": "code",
      "execution_count": null,
      "metadata": {
        "id": "rJebvlFecZ5Y"
      },
      "outputs": [],
      "source": [
        "plt.figure(figsize=(8, 6))\n",
        "plt.scatter(test_y, test_predictions, c='blue', label='Model Predictions')\n",
        "plt.plot([min(test_y), max(test_y)], [min(test_y), max(test_y)], linestyle='--', color='red', label='Prediction line')\n",
        "plt.xlabel('True Values')\n",
        "plt.ylabel('Predicted Values')\n",
        "plt.title('Testing True vs Predicted Values')\n",
        "plt.legend()\n",
        "plt.grid(True)\n",
        "plt.show()"
      ]
    },
    {
      "cell_type": "markdown",
      "metadata": {
        "id": "Ofc6wmCf-rri"
      },
      "source": [
        "As we see, we can generalize and make predictions fairly well."
      ]
    },
    {
      "cell_type": "markdown",
      "metadata": {
        "id": "G4H-wTcH-PCT"
      },
      "source": [
        "Now, lets use the '.predict()' method of LinearRegression to make a prediction on our first training example (at index 0). We can access a training example in a dataframe using '.iloc[]'"
      ]
    },
    {
      "cell_type": "code",
      "execution_count": null,
      "metadata": {
        "id": "x7bzO6jBcyDM"
      },
      "outputs": [],
      "source": []
    },
    {
      "cell_type": "markdown",
      "metadata": {
        "id": "TjqEe8QMAsQk"
      },
      "source": [
        "Lets see what the true target value of our first training example."
      ]
    },
    {
      "cell_type": "code",
      "execution_count": null,
      "metadata": {
        "id": "kKZrtV_9e2X9"
      },
      "outputs": [],
      "source": []
    },
    {
      "cell_type": "markdown",
      "metadata": {
        "id": "Ijen3RQuA12U"
      },
      "source": [
        "As we can see, the performance is still not as great as our cost is pretty high and the actual target value and predicted target value are really different."
      ]
    }
  ],
  "metadata": {
    "colab": {
      "provenance": []
    },
    "kernelspec": {
      "display_name": "Python 3",
      "name": "python3"
    },
    "language_info": {
      "name": "python"
    }
  },
  "nbformat": 4,
  "nbformat_minor": 0
}